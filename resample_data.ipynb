{
 "cells": [
  {
   "cell_type": "markdown",
   "metadata": {},
   "source": [
    "### Downsample data to reduce underfitting"
   ]
  },
  {
   "cell_type": "code",
   "execution_count": 12,
   "metadata": {},
   "outputs": [],
   "source": [
    "import pandas as pd\n",
    "import numpy as np\n",
    "from sklearn.preprocessing import LabelEncoder\n",
    "import seaborn as sns"
   ]
  },
  {
   "cell_type": "code",
   "execution_count": 3,
   "metadata": {},
   "outputs": [],
   "source": [
    "data = pd.read_csv(\"flood_data_nn.csv\")"
   ]
  },
  {
   "cell_type": "code",
   "execution_count": 4,
   "metadata": {},
   "outputs": [],
   "source": [
    "# use label encoder to bin values ranging from 0-2734 into 5 classes\n",
    "# 0 = very low flood risk 5 = very high flood risk\n",
    "# turn labels into float values for regression \n",
    "\n",
    "label_encoder = LabelEncoder()"
   ]
  },
  {
   "cell_type": "code",
   "execution_count": 5,
   "metadata": {},
   "outputs": [],
   "source": [
    "y = label_encoder.fit_transform(pd.cut(data['flood_den'], 5, retbins=True)[0])"
   ]
  },
  {
   "cell_type": "code",
   "execution_count": 6,
   "metadata": {},
   "outputs": [
    {
     "data": {
      "text/plain": [
       "array([Interval(-2.734, 546.8, closed='right'),\n",
       "       Interval(546.8, 1093.6, closed='right'),\n",
       "       Interval(1093.6, 1640.4, closed='right'),\n",
       "       Interval(1640.4, 2187.2, closed='right'),\n",
       "       Interval(2187.2, 2734.0, closed='right')], dtype=object)"
      ]
     },
     "execution_count": 6,
     "metadata": {},
     "output_type": "execute_result"
    }
   ],
   "source": [
    "# check intervals\n",
    "label_encoder.classes_"
   ]
  },
  {
   "cell_type": "code",
   "execution_count": 7,
   "metadata": {},
   "outputs": [
    {
     "data": {
      "text/plain": [
       "(array([0, 1, 2, 3, 4]),\n",
       " array([8578962,  494414,   67697,   15028,    6021], dtype=int64))"
      ]
     },
     "execution_count": 7,
     "metadata": {},
     "output_type": "execute_result"
    }
   ],
   "source": [
    "# dataset imbalance --> bias\n",
    "np.unique(y, return_counts=True)"
   ]
  },
  {
   "cell_type": "code",
   "execution_count": 8,
   "metadata": {},
   "outputs": [],
   "source": [
    "# replace unscaled y with new y\n",
    "data['flood_den'] = y"
   ]
  },
  {
   "cell_type": "code",
   "execution_count": 9,
   "metadata": {},
   "outputs": [],
   "source": [
    "# Random Downsample so all 'classes' equal to class 3 except class 4\n",
    "# Class count\n",
    "count_class_0, count_class_1,count_class_2, count_class_3, count_class_4 = data.flood_den.value_counts()\n",
    "\n",
    "# Divide by class\n",
    "df_class_0 = data[data['flood_den'] == 0]\n",
    "df_class_1 = data[data['flood_den'] == 1]\n",
    "df_class_2 = data[data['flood_den'] == 2]\n",
    "df_class_3 = data[data['flood_den'] == 3]\n",
    "df_class_4 = data[data['flood_den'] == 4]"
   ]
  },
  {
   "cell_type": "code",
   "execution_count": 10,
   "metadata": {},
   "outputs": [
    {
     "name": "stdout",
     "output_type": "stream",
     "text": [
      "Random under-sampling:\n",
      "0    15028\n",
      "1    15028\n",
      "2    15028\n",
      "3    15028\n",
      "4     6021\n",
      "Name: flood_den, dtype: int64\n"
     ]
    }
   ],
   "source": [
    "df_class_0_under = df_class_0.sample(count_class_3)\n",
    "df_class_1_under = df_class_1.sample(count_class_3)\n",
    "df_class_2_under = df_class_2.sample(count_class_3)\n",
    "\n",
    "df = pd.concat([df_class_0_under, df_class_1_under, df_class_2_under, df_class_3, df_class_4], axis=0)\n",
    "\n",
    "print('Random under-sampling:')\n",
    "print(df.flood_den.value_counts())"
   ]
  },
  {
   "cell_type": "code",
   "execution_count": 11,
   "metadata": {},
   "outputs": [],
   "source": [
    "# save resampled data\n",
    "df.to_csv('resampled_data.csv')"
   ]
  },
  {
   "cell_type": "code",
   "execution_count": 14,
   "metadata": {},
   "outputs": [
    {
     "data": {
      "text/plain": [
       "[Text(0.5, 1.0, 'Distribution y Before Resample')]"
      ]
     },
     "execution_count": 14,
     "metadata": {},
     "output_type": "execute_result"
    },
    {
     "data": {
      "image/png": "[encoded data removed]",
      "text/plain": [
       "<Figure size 432x288 with 1 Axes>"
      ]
     },
     "metadata": {
      "needs_background": "light"
     },
     "output_type": "display_data"
    }
   ],
   "source": [
    "# plot y values\n",
    "# most areas in new york = very low risk \n",
    "sns.countplot(x = y).set(title='Distribution y Before Resample')"
   ]
  },
  {
   "cell_type": "code",
   "execution_count": 15,
   "metadata": {},
   "outputs": [
    {
     "data": {
      "text/plain": [
       "[Text(0.5, 1.0, 'Distribution y After Resample')]"
      ]
     },
     "execution_count": 15,
     "metadata": {},
     "output_type": "execute_result"
    },
    {
     "data": {
      "image/png": "[encoded data removed]",
      "text/plain": [
       "<Figure size 432x288 with 1 Axes>"
      ]
     },
     "metadata": {
      "needs_background": "light"
     },
     "output_type": "display_data"
    }
   ],
   "source": [
    "sns.countplot(x = df['flood_den']).set(title='Distribution y After Resample')"
   ]
  }
 ],
 "metadata": {
  "kernelspec": {
   "display_name": "Python 3",
   "language": "python",
   "name": "python3"
  },
  "language_info": {
   "codemirror_mode": {
    "name": "ipython",
    "version": 3
   },
   "file_extension": ".py",
   "mimetype": "text/x-python",
   "name": "python",
   "nbconvert_exporter": "python",
   "pygments_lexer": "ipython3",
   "version": "3.7.6"
  }
 },
 "nbformat": 4,
 "nbformat_minor": 4
}
